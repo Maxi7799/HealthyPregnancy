{
 "cells": [
  {
   "cell_type": "code",
   "execution_count": 5,
   "metadata": {},
   "outputs": [],
   "source": [
    "# Function to calculate BMI\n",
    "def calculate_bmi(weight, height):\n",
    "    bmi = weight / (height ** 2)\n",
    "    return bmi"
   ]
  },
  {
   "cell_type": "code",
   "execution_count": 9,
   "metadata": {},
   "outputs": [
    {
     "name": "stdout",
     "output_type": "stream",
     "text": [
      "BMI: 0.00\n",
      "Underweight\n"
     ]
    }
   ],
   "source": [
    "# Get user inputs\n",
    "weight = float(input(\"Weight in kilograms: \"))\n",
    "height = float(input(\"Height in meters (e.g., 1.75): \"))\n",
    "\n",
    "# Calculate BMI\n",
    "bmi_value = calculate_bmi(weight, height)\n",
    "\n",
    "# Print BMI result\n",
    "print(f\"BMI: {bmi_value:.2f}\")\n",
    "\n",
    "# Interpret the BMI value\n",
    "bmi_cat = None\n",
    "\n",
    "if bmi_value < 18.5:\n",
    "    bmi_cat = \"Underweight\"\n",
    "elif 18.5 <= bmi_value < 24.9:\n",
    "    bmi_cat = \"Healthy Weight\"\n",
    "elif 25 <= bmi_value < 29.9:\n",
    "    bmi_cat = \"Overweight\"\n",
    "else:\n",
    "    bmi_cat = \"Obese\"\n",
    "\n",
    "print(bmi_cat)\n"
   ]
  }
 ],
 "metadata": {
  "kernelspec": {
   "display_name": "base",
   "language": "python",
   "name": "python3"
  },
  "language_info": {
   "codemirror_mode": {
    "name": "ipython",
    "version": 3
   },
   "file_extension": ".py",
   "mimetype": "text/x-python",
   "name": "python",
   "nbconvert_exporter": "python",
   "pygments_lexer": "ipython3",
   "version": "3.9.13"
  }
 },
 "nbformat": 4,
 "nbformat_minor": 2
}
